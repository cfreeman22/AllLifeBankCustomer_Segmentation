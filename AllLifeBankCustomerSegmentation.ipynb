{
  "nbformat": 4,
  "nbformat_minor": 0,
  "metadata": {
    "colab": {
      "name": "AllLifeBankCustomerSegmentation.ipynb",
      "provenance": [],
      "authorship_tag": "ABX9TyP8wlfMxkVhsJYJebXbPGxp",
      "include_colab_link": true
    },
    "kernelspec": {
      "name": "python3",
      "display_name": "Python 3"
    },
    "language_info": {
      "name": "python"
    }
  },
  "cells": [
    {
      "cell_type": "markdown",
      "metadata": {
        "id": "view-in-github",
        "colab_type": "text"
      },
      "source": [
        "<a href=\"https://colab.research.google.com/github/cfreeman22/AllLifeBankCustomer_Segmentation/blob/main/AllLifeBankCustomerSegmentation.ipynb\" target=\"_parent\"><img src=\"https://colab.research.google.com/assets/colab-badge.svg\" alt=\"Open In Colab\"/></a>"
      ]
    },
    {
      "cell_type": "markdown",
      "source": [
        "# All Life Bank Customer Segmentation\n",
        "Presented By Christian Freeman March 2022\n",
        "\n",
        "# Project Planning\n",
        "## Context\n",
        "AllLife Bank wants to focus on its credit card customer base in the next financial year. They have been advised by their marketing research team, that the penetration in the market can be improved. Based on this input, the Marketing team proposes to run personalized campaigns to target new customers as well as upsell to existing customers. Another insight from the market research was that the customers perceive the support services of the back poorly. Based on this, the Operations team wants to upgrade the service delivery model, to ensure that customer queries are resolved faster. Head of Marketing and Head of Delivery both decide to reach out to the Data Science team for help\n",
        "\n",
        " \n",
        "\n",
        "## Objective\n",
        "To identify different segments in the existing customer, based on their spending patterns as well as past interaction with the bank, using clustering algorithms, and provide recommendations to the bank on how to better market to and service these customers.\n",
        "\n",
        " \n",
        "\n",
        "## Data Description\n",
        "The data provided is of various customers of a bank and their financial attributes like credit limit, the total number of credit cards the customer has, and different channels through which customers have contacted the bank for any queries (including visiting the bank, online and through a call center)."
      ],
      "metadata": {
        "id": "eNqsUbuD9cxY"
      }
    },
    {
      "cell_type": "code",
      "execution_count": 3,
      "metadata": {
        "id": "dCudH33h5Nsb"
      },
      "outputs": [],
      "source": [
        "import pandas as pd\n",
        "import numpy as np\n",
        "\n",
        "import matplotlib.pylab as plt\n",
        "%matplotlib inline\n",
        "\n",
        "import seaborn as sns\n",
        "from sklearn.model_selection  import train_test_split\n",
        "from sklearn.cluster import KMeans\n",
        "from sklearn.decomposition import PCA\n",
        "\n",
        "from scipy.stats import zscore\n",
        "\n",
        "#import sklearn.metrics"
      ]
    },
    {
      "cell_type": "code",
      "source": [
        "raw = pd.read_excel('Credit+Card+Customer+Data.xlsx')"
      ],
      "metadata": {
        "id": "GGMF8Mrm5vn6"
      },
      "execution_count": 4,
      "outputs": []
    },
    {
      "cell_type": "code",
      "source": [
        "raw.head()"
      ],
      "metadata": {
        "colab": {
          "base_uri": "https://localhost:8080/",
          "height": 206
        },
        "id": "kZzdOT4V6mi9",
        "outputId": "c6812076-c1a7-4f5e-b446-7afd9071ed4e"
      },
      "execution_count": 5,
      "outputs": [
        {
          "output_type": "execute_result",
          "data": {
            "text/plain": [
              "   Sl_No  Customer Key  Avg_Credit_Limit  Total_Credit_Cards  \\\n",
              "0      1         87073            100000                   2   \n",
              "1      2         38414             50000                   3   \n",
              "2      3         17341             50000                   7   \n",
              "3      4         40496             30000                   5   \n",
              "4      5         47437            100000                   6   \n",
              "\n",
              "   Total_visits_bank  Total_visits_online  Total_calls_made  \n",
              "0                  1                    1                 0  \n",
              "1                  0                   10                 9  \n",
              "2                  1                    3                 4  \n",
              "3                  1                    1                 4  \n",
              "4                  0                   12                 3  "
            ],
            "text/html": [
              "\n",
              "  <div id=\"df-af5f6ef0-da21-4d5c-889e-7e3783603c4a\">\n",
              "    <div class=\"colab-df-container\">\n",
              "      <div>\n",
              "<style scoped>\n",
              "    .dataframe tbody tr th:only-of-type {\n",
              "        vertical-align: middle;\n",
              "    }\n",
              "\n",
              "    .dataframe tbody tr th {\n",
              "        vertical-align: top;\n",
              "    }\n",
              "\n",
              "    .dataframe thead th {\n",
              "        text-align: right;\n",
              "    }\n",
              "</style>\n",
              "<table border=\"1\" class=\"dataframe\">\n",
              "  <thead>\n",
              "    <tr style=\"text-align: right;\">\n",
              "      <th></th>\n",
              "      <th>Sl_No</th>\n",
              "      <th>Customer Key</th>\n",
              "      <th>Avg_Credit_Limit</th>\n",
              "      <th>Total_Credit_Cards</th>\n",
              "      <th>Total_visits_bank</th>\n",
              "      <th>Total_visits_online</th>\n",
              "      <th>Total_calls_made</th>\n",
              "    </tr>\n",
              "  </thead>\n",
              "  <tbody>\n",
              "    <tr>\n",
              "      <th>0</th>\n",
              "      <td>1</td>\n",
              "      <td>87073</td>\n",
              "      <td>100000</td>\n",
              "      <td>2</td>\n",
              "      <td>1</td>\n",
              "      <td>1</td>\n",
              "      <td>0</td>\n",
              "    </tr>\n",
              "    <tr>\n",
              "      <th>1</th>\n",
              "      <td>2</td>\n",
              "      <td>38414</td>\n",
              "      <td>50000</td>\n",
              "      <td>3</td>\n",
              "      <td>0</td>\n",
              "      <td>10</td>\n",
              "      <td>9</td>\n",
              "    </tr>\n",
              "    <tr>\n",
              "      <th>2</th>\n",
              "      <td>3</td>\n",
              "      <td>17341</td>\n",
              "      <td>50000</td>\n",
              "      <td>7</td>\n",
              "      <td>1</td>\n",
              "      <td>3</td>\n",
              "      <td>4</td>\n",
              "    </tr>\n",
              "    <tr>\n",
              "      <th>3</th>\n",
              "      <td>4</td>\n",
              "      <td>40496</td>\n",
              "      <td>30000</td>\n",
              "      <td>5</td>\n",
              "      <td>1</td>\n",
              "      <td>1</td>\n",
              "      <td>4</td>\n",
              "    </tr>\n",
              "    <tr>\n",
              "      <th>4</th>\n",
              "      <td>5</td>\n",
              "      <td>47437</td>\n",
              "      <td>100000</td>\n",
              "      <td>6</td>\n",
              "      <td>0</td>\n",
              "      <td>12</td>\n",
              "      <td>3</td>\n",
              "    </tr>\n",
              "  </tbody>\n",
              "</table>\n",
              "</div>\n",
              "      <button class=\"colab-df-convert\" onclick=\"convertToInteractive('df-af5f6ef0-da21-4d5c-889e-7e3783603c4a')\"\n",
              "              title=\"Convert this dataframe to an interactive table.\"\n",
              "              style=\"display:none;\">\n",
              "        \n",
              "  <svg xmlns=\"http://www.w3.org/2000/svg\" height=\"24px\"viewBox=\"0 0 24 24\"\n",
              "       width=\"24px\">\n",
              "    <path d=\"M0 0h24v24H0V0z\" fill=\"none\"/>\n",
              "    <path d=\"M18.56 5.44l.94 2.06.94-2.06 2.06-.94-2.06-.94-.94-2.06-.94 2.06-2.06.94zm-11 1L8.5 8.5l.94-2.06 2.06-.94-2.06-.94L8.5 2.5l-.94 2.06-2.06.94zm10 10l.94 2.06.94-2.06 2.06-.94-2.06-.94-.94-2.06-.94 2.06-2.06.94z\"/><path d=\"M17.41 7.96l-1.37-1.37c-.4-.4-.92-.59-1.43-.59-.52 0-1.04.2-1.43.59L10.3 9.45l-7.72 7.72c-.78.78-.78 2.05 0 2.83L4 21.41c.39.39.9.59 1.41.59.51 0 1.02-.2 1.41-.59l7.78-7.78 2.81-2.81c.8-.78.8-2.07 0-2.86zM5.41 20L4 18.59l7.72-7.72 1.47 1.35L5.41 20z\"/>\n",
              "  </svg>\n",
              "      </button>\n",
              "      \n",
              "  <style>\n",
              "    .colab-df-container {\n",
              "      display:flex;\n",
              "      flex-wrap:wrap;\n",
              "      gap: 12px;\n",
              "    }\n",
              "\n",
              "    .colab-df-convert {\n",
              "      background-color: #E8F0FE;\n",
              "      border: none;\n",
              "      border-radius: 50%;\n",
              "      cursor: pointer;\n",
              "      display: none;\n",
              "      fill: #1967D2;\n",
              "      height: 32px;\n",
              "      padding: 0 0 0 0;\n",
              "      width: 32px;\n",
              "    }\n",
              "\n",
              "    .colab-df-convert:hover {\n",
              "      background-color: #E2EBFA;\n",
              "      box-shadow: 0px 1px 2px rgba(60, 64, 67, 0.3), 0px 1px 3px 1px rgba(60, 64, 67, 0.15);\n",
              "      fill: #174EA6;\n",
              "    }\n",
              "\n",
              "    [theme=dark] .colab-df-convert {\n",
              "      background-color: #3B4455;\n",
              "      fill: #D2E3FC;\n",
              "    }\n",
              "\n",
              "    [theme=dark] .colab-df-convert:hover {\n",
              "      background-color: #434B5C;\n",
              "      box-shadow: 0px 1px 3px 1px rgba(0, 0, 0, 0.15);\n",
              "      filter: drop-shadow(0px 1px 2px rgba(0, 0, 0, 0.3));\n",
              "      fill: #FFFFFF;\n",
              "    }\n",
              "  </style>\n",
              "\n",
              "      <script>\n",
              "        const buttonEl =\n",
              "          document.querySelector('#df-af5f6ef0-da21-4d5c-889e-7e3783603c4a button.colab-df-convert');\n",
              "        buttonEl.style.display =\n",
              "          google.colab.kernel.accessAllowed ? 'block' : 'none';\n",
              "\n",
              "        async function convertToInteractive(key) {\n",
              "          const element = document.querySelector('#df-af5f6ef0-da21-4d5c-889e-7e3783603c4a');\n",
              "          const dataTable =\n",
              "            await google.colab.kernel.invokeFunction('convertToInteractive',\n",
              "                                                     [key], {});\n",
              "          if (!dataTable) return;\n",
              "\n",
              "          const docLinkHtml = 'Like what you see? Visit the ' +\n",
              "            '<a target=\"_blank\" href=https://colab.research.google.com/notebooks/data_table.ipynb>data table notebook</a>'\n",
              "            + ' to learn more about interactive tables.';\n",
              "          element.innerHTML = '';\n",
              "          dataTable['output_type'] = 'display_data';\n",
              "          await google.colab.output.renderOutput(dataTable, element);\n",
              "          const docLink = document.createElement('div');\n",
              "          docLink.innerHTML = docLinkHtml;\n",
              "          element.appendChild(docLink);\n",
              "        }\n",
              "      </script>\n",
              "    </div>\n",
              "  </div>\n",
              "  "
            ]
          },
          "metadata": {},
          "execution_count": 5
        }
      ]
    },
    {
      "cell_type": "code",
      "source": [
        "raw.isna().sum()"
      ],
      "metadata": {
        "colab": {
          "base_uri": "https://localhost:8080/"
        },
        "id": "S5RQhLSR6t38",
        "outputId": "55a56037-ec8a-42ef-94f8-7b0779f3538d"
      },
      "execution_count": 7,
      "outputs": [
        {
          "output_type": "execute_result",
          "data": {
            "text/plain": [
              "Sl_No                  0\n",
              "Customer Key           0\n",
              "Avg_Credit_Limit       0\n",
              "Total_Credit_Cards     0\n",
              "Total_visits_bank      0\n",
              "Total_visits_online    0\n",
              "Total_calls_made       0\n",
              "dtype: int64"
            ]
          },
          "metadata": {},
          "execution_count": 7
        }
      ]
    },
    {
      "cell_type": "code",
      "source": [
        "raw.describe()"
      ],
      "metadata": {
        "colab": {
          "base_uri": "https://localhost:8080/",
          "height": 300
        },
        "id": "SP19iFRF_kOw",
        "outputId": "9b1aa6f6-464a-4872-b8eb-97871b91a752"
      },
      "execution_count": 8,
      "outputs": [
        {
          "output_type": "execute_result",
          "data": {
            "text/plain": [
              "            Sl_No  Customer Key  Avg_Credit_Limit  Total_Credit_Cards  \\\n",
              "count  660.000000    660.000000        660.000000          660.000000   \n",
              "mean   330.500000  55141.443939      34574.242424            4.706061   \n",
              "std    190.669872  25627.772200      37625.487804            2.167835   \n",
              "min      1.000000  11265.000000       3000.000000            1.000000   \n",
              "25%    165.750000  33825.250000      10000.000000            3.000000   \n",
              "50%    330.500000  53874.500000      18000.000000            5.000000   \n",
              "75%    495.250000  77202.500000      48000.000000            6.000000   \n",
              "max    660.000000  99843.000000     200000.000000           10.000000   \n",
              "\n",
              "       Total_visits_bank  Total_visits_online  Total_calls_made  \n",
              "count         660.000000           660.000000        660.000000  \n",
              "mean            2.403030             2.606061          3.583333  \n",
              "std             1.631813             2.935724          2.865317  \n",
              "min             0.000000             0.000000          0.000000  \n",
              "25%             1.000000             1.000000          1.000000  \n",
              "50%             2.000000             2.000000          3.000000  \n",
              "75%             4.000000             4.000000          5.000000  \n",
              "max             5.000000            15.000000         10.000000  "
            ],
            "text/html": [
              "\n",
              "  <div id=\"df-2e287e7f-b9f6-45b6-99b7-3823d2b9d6f6\">\n",
              "    <div class=\"colab-df-container\">\n",
              "      <div>\n",
              "<style scoped>\n",
              "    .dataframe tbody tr th:only-of-type {\n",
              "        vertical-align: middle;\n",
              "    }\n",
              "\n",
              "    .dataframe tbody tr th {\n",
              "        vertical-align: top;\n",
              "    }\n",
              "\n",
              "    .dataframe thead th {\n",
              "        text-align: right;\n",
              "    }\n",
              "</style>\n",
              "<table border=\"1\" class=\"dataframe\">\n",
              "  <thead>\n",
              "    <tr style=\"text-align: right;\">\n",
              "      <th></th>\n",
              "      <th>Sl_No</th>\n",
              "      <th>Customer Key</th>\n",
              "      <th>Avg_Credit_Limit</th>\n",
              "      <th>Total_Credit_Cards</th>\n",
              "      <th>Total_visits_bank</th>\n",
              "      <th>Total_visits_online</th>\n",
              "      <th>Total_calls_made</th>\n",
              "    </tr>\n",
              "  </thead>\n",
              "  <tbody>\n",
              "    <tr>\n",
              "      <th>count</th>\n",
              "      <td>660.000000</td>\n",
              "      <td>660.000000</td>\n",
              "      <td>660.000000</td>\n",
              "      <td>660.000000</td>\n",
              "      <td>660.000000</td>\n",
              "      <td>660.000000</td>\n",
              "      <td>660.000000</td>\n",
              "    </tr>\n",
              "    <tr>\n",
              "      <th>mean</th>\n",
              "      <td>330.500000</td>\n",
              "      <td>55141.443939</td>\n",
              "      <td>34574.242424</td>\n",
              "      <td>4.706061</td>\n",
              "      <td>2.403030</td>\n",
              "      <td>2.606061</td>\n",
              "      <td>3.583333</td>\n",
              "    </tr>\n",
              "    <tr>\n",
              "      <th>std</th>\n",
              "      <td>190.669872</td>\n",
              "      <td>25627.772200</td>\n",
              "      <td>37625.487804</td>\n",
              "      <td>2.167835</td>\n",
              "      <td>1.631813</td>\n",
              "      <td>2.935724</td>\n",
              "      <td>2.865317</td>\n",
              "    </tr>\n",
              "    <tr>\n",
              "      <th>min</th>\n",
              "      <td>1.000000</td>\n",
              "      <td>11265.000000</td>\n",
              "      <td>3000.000000</td>\n",
              "      <td>1.000000</td>\n",
              "      <td>0.000000</td>\n",
              "      <td>0.000000</td>\n",
              "      <td>0.000000</td>\n",
              "    </tr>\n",
              "    <tr>\n",
              "      <th>25%</th>\n",
              "      <td>165.750000</td>\n",
              "      <td>33825.250000</td>\n",
              "      <td>10000.000000</td>\n",
              "      <td>3.000000</td>\n",
              "      <td>1.000000</td>\n",
              "      <td>1.000000</td>\n",
              "      <td>1.000000</td>\n",
              "    </tr>\n",
              "    <tr>\n",
              "      <th>50%</th>\n",
              "      <td>330.500000</td>\n",
              "      <td>53874.500000</td>\n",
              "      <td>18000.000000</td>\n",
              "      <td>5.000000</td>\n",
              "      <td>2.000000</td>\n",
              "      <td>2.000000</td>\n",
              "      <td>3.000000</td>\n",
              "    </tr>\n",
              "    <tr>\n",
              "      <th>75%</th>\n",
              "      <td>495.250000</td>\n",
              "      <td>77202.500000</td>\n",
              "      <td>48000.000000</td>\n",
              "      <td>6.000000</td>\n",
              "      <td>4.000000</td>\n",
              "      <td>4.000000</td>\n",
              "      <td>5.000000</td>\n",
              "    </tr>\n",
              "    <tr>\n",
              "      <th>max</th>\n",
              "      <td>660.000000</td>\n",
              "      <td>99843.000000</td>\n",
              "      <td>200000.000000</td>\n",
              "      <td>10.000000</td>\n",
              "      <td>5.000000</td>\n",
              "      <td>15.000000</td>\n",
              "      <td>10.000000</td>\n",
              "    </tr>\n",
              "  </tbody>\n",
              "</table>\n",
              "</div>\n",
              "      <button class=\"colab-df-convert\" onclick=\"convertToInteractive('df-2e287e7f-b9f6-45b6-99b7-3823d2b9d6f6')\"\n",
              "              title=\"Convert this dataframe to an interactive table.\"\n",
              "              style=\"display:none;\">\n",
              "        \n",
              "  <svg xmlns=\"http://www.w3.org/2000/svg\" height=\"24px\"viewBox=\"0 0 24 24\"\n",
              "       width=\"24px\">\n",
              "    <path d=\"M0 0h24v24H0V0z\" fill=\"none\"/>\n",
              "    <path d=\"M18.56 5.44l.94 2.06.94-2.06 2.06-.94-2.06-.94-.94-2.06-.94 2.06-2.06.94zm-11 1L8.5 8.5l.94-2.06 2.06-.94-2.06-.94L8.5 2.5l-.94 2.06-2.06.94zm10 10l.94 2.06.94-2.06 2.06-.94-2.06-.94-.94-2.06-.94 2.06-2.06.94z\"/><path d=\"M17.41 7.96l-1.37-1.37c-.4-.4-.92-.59-1.43-.59-.52 0-1.04.2-1.43.59L10.3 9.45l-7.72 7.72c-.78.78-.78 2.05 0 2.83L4 21.41c.39.39.9.59 1.41.59.51 0 1.02-.2 1.41-.59l7.78-7.78 2.81-2.81c.8-.78.8-2.07 0-2.86zM5.41 20L4 18.59l7.72-7.72 1.47 1.35L5.41 20z\"/>\n",
              "  </svg>\n",
              "      </button>\n",
              "      \n",
              "  <style>\n",
              "    .colab-df-container {\n",
              "      display:flex;\n",
              "      flex-wrap:wrap;\n",
              "      gap: 12px;\n",
              "    }\n",
              "\n",
              "    .colab-df-convert {\n",
              "      background-color: #E8F0FE;\n",
              "      border: none;\n",
              "      border-radius: 50%;\n",
              "      cursor: pointer;\n",
              "      display: none;\n",
              "      fill: #1967D2;\n",
              "      height: 32px;\n",
              "      padding: 0 0 0 0;\n",
              "      width: 32px;\n",
              "    }\n",
              "\n",
              "    .colab-df-convert:hover {\n",
              "      background-color: #E2EBFA;\n",
              "      box-shadow: 0px 1px 2px rgba(60, 64, 67, 0.3), 0px 1px 3px 1px rgba(60, 64, 67, 0.15);\n",
              "      fill: #174EA6;\n",
              "    }\n",
              "\n",
              "    [theme=dark] .colab-df-convert {\n",
              "      background-color: #3B4455;\n",
              "      fill: #D2E3FC;\n",
              "    }\n",
              "\n",
              "    [theme=dark] .colab-df-convert:hover {\n",
              "      background-color: #434B5C;\n",
              "      box-shadow: 0px 1px 3px 1px rgba(0, 0, 0, 0.15);\n",
              "      filter: drop-shadow(0px 1px 2px rgba(0, 0, 0, 0.3));\n",
              "      fill: #FFFFFF;\n",
              "    }\n",
              "  </style>\n",
              "\n",
              "      <script>\n",
              "        const buttonEl =\n",
              "          document.querySelector('#df-2e287e7f-b9f6-45b6-99b7-3823d2b9d6f6 button.colab-df-convert');\n",
              "        buttonEl.style.display =\n",
              "          google.colab.kernel.accessAllowed ? 'block' : 'none';\n",
              "\n",
              "        async function convertToInteractive(key) {\n",
              "          const element = document.querySelector('#df-2e287e7f-b9f6-45b6-99b7-3823d2b9d6f6');\n",
              "          const dataTable =\n",
              "            await google.colab.kernel.invokeFunction('convertToInteractive',\n",
              "                                                     [key], {});\n",
              "          if (!dataTable) return;\n",
              "\n",
              "          const docLinkHtml = 'Like what you see? Visit the ' +\n",
              "            '<a target=\"_blank\" href=https://colab.research.google.com/notebooks/data_table.ipynb>data table notebook</a>'\n",
              "            + ' to learn more about interactive tables.';\n",
              "          element.innerHTML = '';\n",
              "          dataTable['output_type'] = 'display_data';\n",
              "          await google.colab.output.renderOutput(dataTable, element);\n",
              "          const docLink = document.createElement('div');\n",
              "          docLink.innerHTML = docLinkHtml;\n",
              "          element.appendChild(docLink);\n",
              "        }\n",
              "      </script>\n",
              "    </div>\n",
              "  </div>\n",
              "  "
            ]
          },
          "metadata": {},
          "execution_count": 8
        }
      ]
    },
    {
      "cell_type": "code",
      "source": [
        "df =raw.copy()"
      ],
      "metadata": {
        "id": "OKnoib-aAB0e"
      },
      "execution_count": 9,
      "outputs": []
    },
    {
      "cell_type": "code",
      "source": [
        "df.info()"
      ],
      "metadata": {
        "colab": {
          "base_uri": "https://localhost:8080/"
        },
        "id": "zbjPCzAkApRB",
        "outputId": "e227addc-bc63-4e73-a094-075419a289af"
      },
      "execution_count": 10,
      "outputs": [
        {
          "output_type": "stream",
          "name": "stdout",
          "text": [
            "<class 'pandas.core.frame.DataFrame'>\n",
            "RangeIndex: 660 entries, 0 to 659\n",
            "Data columns (total 7 columns):\n",
            " #   Column               Non-Null Count  Dtype\n",
            "---  ------               --------------  -----\n",
            " 0   Sl_No                660 non-null    int64\n",
            " 1   Customer Key         660 non-null    int64\n",
            " 2   Avg_Credit_Limit     660 non-null    int64\n",
            " 3   Total_Credit_Cards   660 non-null    int64\n",
            " 4   Total_visits_bank    660 non-null    int64\n",
            " 5   Total_visits_online  660 non-null    int64\n",
            " 6   Total_calls_made     660 non-null    int64\n",
            "dtypes: int64(7)\n",
            "memory usage: 36.2 KB\n"
          ]
        }
      ]
    },
    {
      "cell_type": "code",
      "source": [
        "# Checking for duplicates\n",
        "df[df.duplicated()].count()"
      ],
      "metadata": {
        "colab": {
          "base_uri": "https://localhost:8080/"
        },
        "id": "fOmKzKW9ApOO",
        "outputId": "5a6a1b0e-9938-427c-bb20-c4ecffe5518a"
      },
      "execution_count": 11,
      "outputs": [
        {
          "output_type": "execute_result",
          "data": {
            "text/plain": [
              "Sl_No                  0\n",
              "Customer Key           0\n",
              "Avg_Credit_Limit       0\n",
              "Total_Credit_Cards     0\n",
              "Total_visits_bank      0\n",
              "Total_visits_online    0\n",
              "Total_calls_made       0\n",
              "dtype: int64"
            ]
          },
          "metadata": {},
          "execution_count": 11
        }
      ]
    },
    {
      "cell_type": "code",
      "source": [
        "# Checking for nulls\n",
        "df.isna().sum()"
      ],
      "metadata": {
        "colab": {
          "base_uri": "https://localhost:8080/"
        },
        "id": "iwt3xoKbApLf",
        "outputId": "50818eb2-ad75-4f01-83c8-06b9bd68f8aa"
      },
      "execution_count": 12,
      "outputs": [
        {
          "output_type": "execute_result",
          "data": {
            "text/plain": [
              "Sl_No                  0\n",
              "Customer Key           0\n",
              "Avg_Credit_Limit       0\n",
              "Total_Credit_Cards     0\n",
              "Total_visits_bank      0\n",
              "Total_visits_online    0\n",
              "Total_calls_made       0\n",
              "dtype: int64"
            ]
          },
          "metadata": {},
          "execution_count": 12
        }
      ]
    },
    {
      "cell_type": "code",
      "source": [
        "# Descriptives Statistics\n",
        "df.describe(include = 'all').T"
      ],
      "metadata": {
        "colab": {
          "base_uri": "https://localhost:8080/",
          "height": 268
        },
        "id": "cHAdoAICApI9",
        "outputId": "bcd97ebc-9371-4cec-d0ba-f35a46fce9dd"
      },
      "execution_count": 13,
      "outputs": [
        {
          "output_type": "execute_result",
          "data": {
            "text/plain": [
              "                     count          mean           std      min       25%  \\\n",
              "Sl_No                660.0    330.500000    190.669872      1.0    165.75   \n",
              "Customer Key         660.0  55141.443939  25627.772200  11265.0  33825.25   \n",
              "Avg_Credit_Limit     660.0  34574.242424  37625.487804   3000.0  10000.00   \n",
              "Total_Credit_Cards   660.0      4.706061      2.167835      1.0      3.00   \n",
              "Total_visits_bank    660.0      2.403030      1.631813      0.0      1.00   \n",
              "Total_visits_online  660.0      2.606061      2.935724      0.0      1.00   \n",
              "Total_calls_made     660.0      3.583333      2.865317      0.0      1.00   \n",
              "\n",
              "                         50%       75%       max  \n",
              "Sl_No                  330.5    495.25     660.0  \n",
              "Customer Key         53874.5  77202.50   99843.0  \n",
              "Avg_Credit_Limit     18000.0  48000.00  200000.0  \n",
              "Total_Credit_Cards       5.0      6.00      10.0  \n",
              "Total_visits_bank        2.0      4.00       5.0  \n",
              "Total_visits_online      2.0      4.00      15.0  \n",
              "Total_calls_made         3.0      5.00      10.0  "
            ],
            "text/html": [
              "\n",
              "  <div id=\"df-7b1e8862-b436-411c-9a28-6afe588a1ba1\">\n",
              "    <div class=\"colab-df-container\">\n",
              "      <div>\n",
              "<style scoped>\n",
              "    .dataframe tbody tr th:only-of-type {\n",
              "        vertical-align: middle;\n",
              "    }\n",
              "\n",
              "    .dataframe tbody tr th {\n",
              "        vertical-align: top;\n",
              "    }\n",
              "\n",
              "    .dataframe thead th {\n",
              "        text-align: right;\n",
              "    }\n",
              "</style>\n",
              "<table border=\"1\" class=\"dataframe\">\n",
              "  <thead>\n",
              "    <tr style=\"text-align: right;\">\n",
              "      <th></th>\n",
              "      <th>count</th>\n",
              "      <th>mean</th>\n",
              "      <th>std</th>\n",
              "      <th>min</th>\n",
              "      <th>25%</th>\n",
              "      <th>50%</th>\n",
              "      <th>75%</th>\n",
              "      <th>max</th>\n",
              "    </tr>\n",
              "  </thead>\n",
              "  <tbody>\n",
              "    <tr>\n",
              "      <th>Sl_No</th>\n",
              "      <td>660.0</td>\n",
              "      <td>330.500000</td>\n",
              "      <td>190.669872</td>\n",
              "      <td>1.0</td>\n",
              "      <td>165.75</td>\n",
              "      <td>330.5</td>\n",
              "      <td>495.25</td>\n",
              "      <td>660.0</td>\n",
              "    </tr>\n",
              "    <tr>\n",
              "      <th>Customer Key</th>\n",
              "      <td>660.0</td>\n",
              "      <td>55141.443939</td>\n",
              "      <td>25627.772200</td>\n",
              "      <td>11265.0</td>\n",
              "      <td>33825.25</td>\n",
              "      <td>53874.5</td>\n",
              "      <td>77202.50</td>\n",
              "      <td>99843.0</td>\n",
              "    </tr>\n",
              "    <tr>\n",
              "      <th>Avg_Credit_Limit</th>\n",
              "      <td>660.0</td>\n",
              "      <td>34574.242424</td>\n",
              "      <td>37625.487804</td>\n",
              "      <td>3000.0</td>\n",
              "      <td>10000.00</td>\n",
              "      <td>18000.0</td>\n",
              "      <td>48000.00</td>\n",
              "      <td>200000.0</td>\n",
              "    </tr>\n",
              "    <tr>\n",
              "      <th>Total_Credit_Cards</th>\n",
              "      <td>660.0</td>\n",
              "      <td>4.706061</td>\n",
              "      <td>2.167835</td>\n",
              "      <td>1.0</td>\n",
              "      <td>3.00</td>\n",
              "      <td>5.0</td>\n",
              "      <td>6.00</td>\n",
              "      <td>10.0</td>\n",
              "    </tr>\n",
              "    <tr>\n",
              "      <th>Total_visits_bank</th>\n",
              "      <td>660.0</td>\n",
              "      <td>2.403030</td>\n",
              "      <td>1.631813</td>\n",
              "      <td>0.0</td>\n",
              "      <td>1.00</td>\n",
              "      <td>2.0</td>\n",
              "      <td>4.00</td>\n",
              "      <td>5.0</td>\n",
              "    </tr>\n",
              "    <tr>\n",
              "      <th>Total_visits_online</th>\n",
              "      <td>660.0</td>\n",
              "      <td>2.606061</td>\n",
              "      <td>2.935724</td>\n",
              "      <td>0.0</td>\n",
              "      <td>1.00</td>\n",
              "      <td>2.0</td>\n",
              "      <td>4.00</td>\n",
              "      <td>15.0</td>\n",
              "    </tr>\n",
              "    <tr>\n",
              "      <th>Total_calls_made</th>\n",
              "      <td>660.0</td>\n",
              "      <td>3.583333</td>\n",
              "      <td>2.865317</td>\n",
              "      <td>0.0</td>\n",
              "      <td>1.00</td>\n",
              "      <td>3.0</td>\n",
              "      <td>5.00</td>\n",
              "      <td>10.0</td>\n",
              "    </tr>\n",
              "  </tbody>\n",
              "</table>\n",
              "</div>\n",
              "      <button class=\"colab-df-convert\" onclick=\"convertToInteractive('df-7b1e8862-b436-411c-9a28-6afe588a1ba1')\"\n",
              "              title=\"Convert this dataframe to an interactive table.\"\n",
              "              style=\"display:none;\">\n",
              "        \n",
              "  <svg xmlns=\"http://www.w3.org/2000/svg\" height=\"24px\"viewBox=\"0 0 24 24\"\n",
              "       width=\"24px\">\n",
              "    <path d=\"M0 0h24v24H0V0z\" fill=\"none\"/>\n",
              "    <path d=\"M18.56 5.44l.94 2.06.94-2.06 2.06-.94-2.06-.94-.94-2.06-.94 2.06-2.06.94zm-11 1L8.5 8.5l.94-2.06 2.06-.94-2.06-.94L8.5 2.5l-.94 2.06-2.06.94zm10 10l.94 2.06.94-2.06 2.06-.94-2.06-.94-.94-2.06-.94 2.06-2.06.94z\"/><path d=\"M17.41 7.96l-1.37-1.37c-.4-.4-.92-.59-1.43-.59-.52 0-1.04.2-1.43.59L10.3 9.45l-7.72 7.72c-.78.78-.78 2.05 0 2.83L4 21.41c.39.39.9.59 1.41.59.51 0 1.02-.2 1.41-.59l7.78-7.78 2.81-2.81c.8-.78.8-2.07 0-2.86zM5.41 20L4 18.59l7.72-7.72 1.47 1.35L5.41 20z\"/>\n",
              "  </svg>\n",
              "      </button>\n",
              "      \n",
              "  <style>\n",
              "    .colab-df-container {\n",
              "      display:flex;\n",
              "      flex-wrap:wrap;\n",
              "      gap: 12px;\n",
              "    }\n",
              "\n",
              "    .colab-df-convert {\n",
              "      background-color: #E8F0FE;\n",
              "      border: none;\n",
              "      border-radius: 50%;\n",
              "      cursor: pointer;\n",
              "      display: none;\n",
              "      fill: #1967D2;\n",
              "      height: 32px;\n",
              "      padding: 0 0 0 0;\n",
              "      width: 32px;\n",
              "    }\n",
              "\n",
              "    .colab-df-convert:hover {\n",
              "      background-color: #E2EBFA;\n",
              "      box-shadow: 0px 1px 2px rgba(60, 64, 67, 0.3), 0px 1px 3px 1px rgba(60, 64, 67, 0.15);\n",
              "      fill: #174EA6;\n",
              "    }\n",
              "\n",
              "    [theme=dark] .colab-df-convert {\n",
              "      background-color: #3B4455;\n",
              "      fill: #D2E3FC;\n",
              "    }\n",
              "\n",
              "    [theme=dark] .colab-df-convert:hover {\n",
              "      background-color: #434B5C;\n",
              "      box-shadow: 0px 1px 3px 1px rgba(0, 0, 0, 0.15);\n",
              "      filter: drop-shadow(0px 1px 2px rgba(0, 0, 0, 0.3));\n",
              "      fill: #FFFFFF;\n",
              "    }\n",
              "  </style>\n",
              "\n",
              "      <script>\n",
              "        const buttonEl =\n",
              "          document.querySelector('#df-7b1e8862-b436-411c-9a28-6afe588a1ba1 button.colab-df-convert');\n",
              "        buttonEl.style.display =\n",
              "          google.colab.kernel.accessAllowed ? 'block' : 'none';\n",
              "\n",
              "        async function convertToInteractive(key) {\n",
              "          const element = document.querySelector('#df-7b1e8862-b436-411c-9a28-6afe588a1ba1');\n",
              "          const dataTable =\n",
              "            await google.colab.kernel.invokeFunction('convertToInteractive',\n",
              "                                                     [key], {});\n",
              "          if (!dataTable) return;\n",
              "\n",
              "          const docLinkHtml = 'Like what you see? Visit the ' +\n",
              "            '<a target=\"_blank\" href=https://colab.research.google.com/notebooks/data_table.ipynb>data table notebook</a>'\n",
              "            + ' to learn more about interactive tables.';\n",
              "          element.innerHTML = '';\n",
              "          dataTable['output_type'] = 'display_data';\n",
              "          await google.colab.output.renderOutput(dataTable, element);\n",
              "          const docLink = document.createElement('div');\n",
              "          docLink.innerHTML = docLinkHtml;\n",
              "          element.appendChild(docLink);\n",
              "        }\n",
              "      </script>\n",
              "    </div>\n",
              "  </div>\n",
              "  "
            ]
          },
          "metadata": {},
          "execution_count": 13
        }
      ]
    },
    {
      "cell_type": "code",
      "source": [
        "# Value counts of all variables\n",
        "for column in df.columns.to_list():\n",
        "    print(df[column].value_counts())\n",
        "    print('===================================')\n",
        "    print()"
      ],
      "metadata": {
        "colab": {
          "base_uri": "https://localhost:8080/"
        },
        "id": "Yun5FQf-ApGu",
        "outputId": "b114770d-bf8a-45a9-b0f5-a7fd94d6bf49"
      },
      "execution_count": 14,
      "outputs": [
        {
          "output_type": "stream",
          "name": "stdout",
          "text": [
            "1      1\n",
            "435    1\n",
            "437    1\n",
            "438    1\n",
            "439    1\n",
            "      ..\n",
            "221    1\n",
            "222    1\n",
            "223    1\n",
            "224    1\n",
            "660    1\n",
            "Name: Sl_No, Length: 660, dtype: int64\n",
            "===================================\n",
            "\n",
            "97935    2\n",
            "50706    2\n",
            "47437    2\n",
            "37252    2\n",
            "96929    2\n",
            "        ..\n",
            "73811    1\n",
            "72892    1\n",
            "51773    1\n",
            "96163    1\n",
            "80150    1\n",
            "Name: Customer Key, Length: 655, dtype: int64\n",
            "===================================\n",
            "\n",
            "8000      35\n",
            "6000      31\n",
            "9000      28\n",
            "13000     28\n",
            "19000     26\n",
            "          ..\n",
            "43000      1\n",
            "146000     1\n",
            "155000     1\n",
            "200000     1\n",
            "167000     1\n",
            "Name: Avg_Credit_Limit, Length: 110, dtype: int64\n",
            "===================================\n",
            "\n",
            "4     151\n",
            "6     117\n",
            "7     101\n",
            "5      74\n",
            "2      64\n",
            "1      59\n",
            "3      53\n",
            "10     19\n",
            "9      11\n",
            "8      11\n",
            "Name: Total_Credit_Cards, dtype: int64\n",
            "===================================\n",
            "\n",
            "2    158\n",
            "1    112\n",
            "0    100\n",
            "3    100\n",
            "5     98\n",
            "4     92\n",
            "Name: Total_visits_bank, dtype: int64\n",
            "===================================\n",
            "\n",
            "2     189\n",
            "0     144\n",
            "1     109\n",
            "4      69\n",
            "5      54\n",
            "3      44\n",
            "15     10\n",
            "7       7\n",
            "10      6\n",
            "12      6\n",
            "8       6\n",
            "11      5\n",
            "13      5\n",
            "9       4\n",
            "14      1\n",
            "6       1\n",
            "Name: Total_visits_online, dtype: int64\n",
            "===================================\n",
            "\n",
            "4     108\n",
            "0      97\n",
            "2      91\n",
            "1      90\n",
            "3      83\n",
            "6      39\n",
            "7      35\n",
            "9      32\n",
            "8      30\n",
            "5      29\n",
            "10     26\n",
            "Name: Total_calls_made, dtype: int64\n",
            "===================================\n",
            "\n"
          ]
        }
      ]
    },
    {
      "cell_type": "markdown",
      "source": [
        "## Observations\n",
        "- The dataframe contains 660 rows and 7 columns\n",
        "- There are no duplicated values\n",
        "- Avg_Credit_Limit is skewed  with a mean of 34574.242424 , a min of 3000.0 , and a max of 200000 \n",
        "- Avg_Credit_Limit is skewed  with a mean of 34574.242424 , a min of 3000.0 , and a max of 200000 \n",
        "- Avg_Credit_Limit is skewed  with a mean of 34574.242424 , a min of 3000.0 , and a max of 200000 \n",
        "- Avg_Credit_Limit is skewed  with a mean of 34574.242424 , a min of 3000.0 , and a max of 200000 \n",
        " "
      ],
      "metadata": {
        "id": "EsBu0zthA-PH"
      }
    },
    {
      "cell_type": "code",
      "source": [
        ""
      ],
      "metadata": {
        "id": "y2cGal82ApDP"
      },
      "execution_count": null,
      "outputs": []
    },
    {
      "cell_type": "code",
      "source": [
        ""
      ],
      "metadata": {
        "id": "iBtBHyCKApAt"
      },
      "execution_count": null,
      "outputs": []
    },
    {
      "cell_type": "code",
      "source": [
        ""
      ],
      "metadata": {
        "id": "TRZ_8vyxAo9w"
      },
      "execution_count": null,
      "outputs": []
    },
    {
      "cell_type": "code",
      "source": [
        ""
      ],
      "metadata": {
        "id": "Bgr2v2phAo6b"
      },
      "execution_count": null,
      "outputs": []
    },
    {
      "cell_type": "markdown",
      "source": [
        "# Define the problem and perform an Exploratory Data Analysis"
      ],
      "metadata": {
        "id": "qWt0q-g78VVc"
      }
    },
    {
      "cell_type": "markdown",
      "source": [
        "# Data preprocessing"
      ],
      "metadata": {
        "id": "S9QkKWE98ewr"
      }
    },
    {
      "cell_type": "markdown",
      "source": [
        "# Applying K-means Clustering"
      ],
      "metadata": {
        "id": "4A2KMnt68nyb"
      }
    },
    {
      "cell_type": "markdown",
      "source": [
        "# Applying Hierarchical Clustering\n"
      ],
      "metadata": {
        "id": "v5PtZfJI8v5x"
      }
    },
    {
      "cell_type": "markdown",
      "source": [
        "# K-means vs Hierarchical Clustering"
      ],
      "metadata": {
        "id": "uXSwR4gg9B63"
      }
    },
    {
      "cell_type": "markdown",
      "source": [
        "# Actionable Insights & Recommendations"
      ],
      "metadata": {
        "id": "C6ZQM6AM9ZX9"
      }
    },
    {
      "cell_type": "code",
      "source": [
        ""
      ],
      "metadata": {
        "id": "9YRJb9OX8ZZ8"
      },
      "execution_count": null,
      "outputs": []
    }
  ]
}